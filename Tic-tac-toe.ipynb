{
  "nbformat": 4,
  "nbformat_minor": 0,
  "metadata": {
    "colab": {
      "provenance": [],
      "authorship_tag": "ABX9TyNnLCa6wQ6g7v3VhRfRVVv7",
      "include_colab_link": true
    },
    "kernelspec": {
      "name": "python3",
      "display_name": "Python 3"
    },
    "language_info": {
      "name": "python"
    }
  },
  "cells": [
    {
      "cell_type": "markdown",
      "metadata": {
        "id": "view-in-github",
        "colab_type": "text"
      },
      "source": [
        "<a href=\"https://colab.research.google.com/github/RomanKunal/Testcases/blob/main/Tic-tac-toe.ipynb\" target=\"_parent\"><img src=\"https://colab.research.google.com/assets/colab-badge.svg\" alt=\"Open In Colab\"/></a>"
      ]
    },
    {
      "cell_type": "markdown",
      "source": [
        "**Tic Toe Tac Game.**\n",
        "\n",
        "---\n",
        "\n"
      ],
      "metadata": {
        "id": "Ri17lo5MF_fR"
      }
    },
    {
      "cell_type": "code",
      "source": [
        "import random\n",
        "import numpy as np\n",
        "import os\n",
        "\n",
        "import time\n",
        "board = [' ', ' ', ' ', ' ', ' ', ' ', ' ', ' ', ' ', ' ']\n",
        "player = 1\n",
        "# Win Flags\n",
        "Win = 1\n",
        "Draw = -1\n",
        "Running = 0\n",
        "Stop = 1\n",
        "Game = Running\n",
        "Mark = 'X'\n",
        "def DrawBoard():\n",
        "    print(\" %c | %c | %c \" % (board[1], board[2], board[3]))\n",
        "    print(\"___|___|___\")\n",
        "    print(\" %c | %c | %c \" % (board[4], board[5], board[6]))\n",
        "    print(\"___|___|___\")\n",
        "    print(\" %c | %c | %c \" % (board[7], board[8], board[9]))\n",
        "    print(\" | | \")\n",
        "def CheckPosition(x):\n",
        "    if board[x] == ' ':\n",
        "        return True\n",
        "    else:\n",
        "        return False\n",
        "def CheckWin():\n",
        "    global Game\n",
        "\n",
        "    if board[1] == board[2] and board[2] == board[3] and board[1] != ' ':\n",
        "        Game = Win\n",
        "    elif board[4] == board[5] and board[5] == board[6] and board[4] != ' ':\n",
        "        Game = Win\n",
        "    elif board[7] == board[8] and board[8] == board[9] and board[7] != ' ':\n",
        "        Game = Win\n",
        "    elif board[1] == board[4] and board[4] == board[7] and board[1] != ' ':\n",
        "        Game = Win\n",
        "    elif board[2] == board[5] and board[5] == board[8] and board[2] != ' ':\n",
        "        Game = Win\n",
        "    elif board[3] == board[6] and board[6] == board[9] and board[3] != ' ':\n",
        "        Game = Win\n",
        "    elif board[1] == board[5] and board[5] == board[9] and board[5] != ' ':\n",
        "        Game = Win\n",
        "    elif board[3] == board[5] and board[5] == board[7] and board[5] != ' ':\n",
        "        Game = Win\n",
        "    elif board[1] != ' ' and board[2] != ' ' and board[3] != ' ' and \\\n",
        "            board[4] != ' ' and board[5] != ' ' and board[6] != ' ' and \\\n",
        "            board[7] != ' ' and board[8] != ' ' and board[9] != ' ':\n",
        "        Game = Draw\n",
        "    else:\n",
        "        Game = Running\n",
        "print(\"Tic-Tac-Toe Game\")\n",
        "print(\"Player 1 [X] --- Player 2 [O]\\n\")\n",
        "print()\n",
        "print()\n",
        "print(\"Please Wait...\")\n",
        "time.sleep(3)\n",
        "playerbot=np.random.randint()\n",
        "while Game == Running:\n",
        "    os.system('cls')\n",
        "    DrawBoard()\n",
        "    if player % 2 != 0:\n",
        "        print(\"Player 1's chance\")\n",
        "        Mark = 'X'\n",
        "    else:\n",
        "        print(\"Player 2's chance\")\n",
        "        Mark = 'O'\n",
        "    choice = int(input(\"Enter the position between [1-9] where you want to mark: \"))\n",
        "    if choice>=10:\n",
        "      print(\"Error out of the range\")\n",
        "      break\n",
        "    if CheckPosition(choice):\n",
        "        board[choice] = Mark\n",
        "        player += 1\n",
        "        CheckWin()\n",
        "    os.system('cls')\n",
        "    DrawBoard()\n",
        "    if Game == Draw:\n",
        "        print(\"Game Draw\")\n",
        "    elif Game == Win:\n",
        "        player -= 1\n",
        "        if player % 2 != 0:\n",
        "            print(\"Player 1 Won\")\n",
        "        else:\n",
        "            print(\"Player 2 Won\")"
      ],
      "metadata": {
        "colab": {
          "base_uri": "https://localhost:8080/"
        },
        "id": "mnH3XbReGFFp",
        "outputId": "20a99393-a111-41a4-9e8e-beab819492ff"
      },
      "execution_count": 4,
      "outputs": [
        {
          "output_type": "stream",
          "name": "stdout",
          "text": [
            "Tic-Tac-Toe Game\n",
            "Player 1 [X] --- Player 2 [O]\n",
            "\n",
            "\n",
            "\n",
            "Please Wait...\n",
            "   |   |   \n",
            "___|___|___\n",
            "   |   |   \n",
            "___|___|___\n",
            "   |   |   \n",
            " | | \n",
            "Player 1's chance\n",
            "Enter the position between [1-9] where you want to mark: 10\n",
            "Error out of the range\n"
          ]
        }
      ]
    },
    {
      "cell_type": "code",
      "source": [
        "import tkinter as tk\n",
        "from tkinter import messagebox\n",
        "import os\n",
        "import numpy as np\n",
        "import random\n",
        "def clicked(r,c):\n",
        "    global Player1\n",
        "    if Player1 == \"X\" and states[r] == 0 and stop_game == False:\n",
        "        b[r].configure(text = \"X\")\n",
        "        states[r] = 'X'\n",
        "        Player1='O'\n",
        "    if Player1 == 'O' and states[r] == 0 and stop_game == False:\n",
        "        b[r].configure(text = 'O')\n",
        "        states[r] = \"O\"\n",
        "        Player1 = \"X\"\n",
        "    check_if_win()\n",
        "def check_if_win():\n",
        "    global stop_game\n",
        "    for i in range(3):\n",
        "        if states[i][0] == states[i][1] == states[i][2] !=0:\n",
        "            stop_game = True\n",
        "            winner = messagebox.showinfo(\"Winner\", states[i][0] + \" Won\")\n",
        "            break\n",
        "        elif states [0][i] == states[1][i] == states[2][i] != 0:\n",
        "            stop_game = True\n",
        "            winner = messagebox.showinfo(\"Winner\", states[0][i]+ \" Won!\")\n",
        "            break\n",
        "        elif states[0][0] == states[1][1] == states[2][2] !=0:\n",
        "            stop_game = True\n",
        "            winner = messagebox.showinfo(\"Winner\", states[0][0]+ \" Won!\")\n",
        "            break\n",
        "        elif states[0][2] == states[1][1] == states[2][0] !=0:\n",
        "            stop_game = True\n",
        "            winner = messagebox.showinfo(\"Winner\" , states[0][2]+ \" Won!\")\n",
        "            break\n",
        "        elif states[0][0] and states[0][1] and states[0][2] and states[1][0] and states[1][1] and states[1][2] and states[2][0] and states[2][1] and states[2][2] != 0:\n",
        "            stop_game = True\n",
        "            winner = messagebox.showinfo(\"tie\", \"Tie\")\n",
        "root=Tk()\n",
        "root.title(\"tic tac toe\")\n",
        "root.resizable(0,0)\n",
        "b = [\n",
        "     [0,0,0],\n",
        "     [0,0,0],\n",
        "     [0,0,0]]\n",
        "states = [\n",
        "     [0,0,0],\n",
        "     [0,0,0],\n",
        "     [0,0,0]]\n",
        "for i in range(3):\n",
        "    for j in range(3):\n",
        "        b[i][j] = Button(\n",
        "                        height = 4, width = 8,\n",
        "                        font = (\"Helvetica\",\"20\"),\n",
        "                        command = lambda r = i, c = j : clicked(r,c))\n",
        "        b[i][j].grid(row = i, column = j)\n",
        "mainloop()"
      ],
      "metadata": {
        "colab": {
          "base_uri": "https://localhost:8080/",
          "height": 367
        },
        "id": "ZmFFuObzMlHJ",
        "outputId": "10ae2463-3d43-4bdd-fdef-f92693163900"
      },
      "execution_count": 8,
      "outputs": [
        {
          "output_type": "error",
          "ename": "TclError",
          "evalue": "no display name and no $DISPLAY environment variable",
          "traceback": [
            "\u001b[0;31m---------------------------------------------------------------------------\u001b[0m",
            "\u001b[0;31mTclError\u001b[0m                                  Traceback (most recent call last)",
            "\u001b[0;32m<ipython-input-8-e6c6b3d127f5>\u001b[0m in \u001b[0;36m<cell line: 39>\u001b[0;34m()\u001b[0m\n\u001b[1;32m     37\u001b[0m             \u001b[0mstop_game\u001b[0m \u001b[0;34m=\u001b[0m \u001b[0;32mTrue\u001b[0m\u001b[0;34m\u001b[0m\u001b[0;34m\u001b[0m\u001b[0m\n\u001b[1;32m     38\u001b[0m             \u001b[0mwinner\u001b[0m \u001b[0;34m=\u001b[0m \u001b[0mmessagebox\u001b[0m\u001b[0;34m.\u001b[0m\u001b[0mshowinfo\u001b[0m\u001b[0;34m(\u001b[0m\u001b[0;34m\"tie\"\u001b[0m\u001b[0;34m,\u001b[0m \u001b[0;34m\"Tie\"\u001b[0m\u001b[0;34m)\u001b[0m\u001b[0;34m\u001b[0m\u001b[0;34m\u001b[0m\u001b[0m\n\u001b[0;32m---> 39\u001b[0;31m \u001b[0mroot\u001b[0m\u001b[0;34m=\u001b[0m\u001b[0mTk\u001b[0m\u001b[0;34m(\u001b[0m\u001b[0;34m)\u001b[0m\u001b[0;34m\u001b[0m\u001b[0;34m\u001b[0m\u001b[0m\n\u001b[0m\u001b[1;32m     40\u001b[0m \u001b[0mroot\u001b[0m\u001b[0;34m.\u001b[0m\u001b[0mtitle\u001b[0m\u001b[0;34m(\u001b[0m\u001b[0;34m\"tic tac toe\"\u001b[0m\u001b[0;34m)\u001b[0m\u001b[0;34m\u001b[0m\u001b[0;34m\u001b[0m\u001b[0m\n\u001b[1;32m     41\u001b[0m \u001b[0mroot\u001b[0m\u001b[0;34m.\u001b[0m\u001b[0mresizable\u001b[0m\u001b[0;34m(\u001b[0m\u001b[0;36m0\u001b[0m\u001b[0;34m,\u001b[0m\u001b[0;36m0\u001b[0m\u001b[0;34m)\u001b[0m\u001b[0;34m\u001b[0m\u001b[0;34m\u001b[0m\u001b[0m\n",
            "\u001b[0;32m/usr/lib/python3.10/tkinter/__init__.py\u001b[0m in \u001b[0;36m__init__\u001b[0;34m(self, screenName, baseName, className, useTk, sync, use)\u001b[0m\n\u001b[1;32m   2297\u001b[0m                 \u001b[0mbaseName\u001b[0m \u001b[0;34m=\u001b[0m \u001b[0mbaseName\u001b[0m \u001b[0;34m+\u001b[0m \u001b[0mext\u001b[0m\u001b[0;34m\u001b[0m\u001b[0;34m\u001b[0m\u001b[0m\n\u001b[1;32m   2298\u001b[0m         \u001b[0minteractive\u001b[0m \u001b[0;34m=\u001b[0m \u001b[0;32mFalse\u001b[0m\u001b[0;34m\u001b[0m\u001b[0;34m\u001b[0m\u001b[0m\n\u001b[0;32m-> 2299\u001b[0;31m         \u001b[0mself\u001b[0m\u001b[0;34m.\u001b[0m\u001b[0mtk\u001b[0m \u001b[0;34m=\u001b[0m \u001b[0m_tkinter\u001b[0m\u001b[0;34m.\u001b[0m\u001b[0mcreate\u001b[0m\u001b[0;34m(\u001b[0m\u001b[0mscreenName\u001b[0m\u001b[0;34m,\u001b[0m \u001b[0mbaseName\u001b[0m\u001b[0;34m,\u001b[0m \u001b[0mclassName\u001b[0m\u001b[0;34m,\u001b[0m \u001b[0minteractive\u001b[0m\u001b[0;34m,\u001b[0m \u001b[0mwantobjects\u001b[0m\u001b[0;34m,\u001b[0m \u001b[0museTk\u001b[0m\u001b[0;34m,\u001b[0m \u001b[0msync\u001b[0m\u001b[0;34m,\u001b[0m \u001b[0muse\u001b[0m\u001b[0;34m)\u001b[0m\u001b[0;34m\u001b[0m\u001b[0;34m\u001b[0m\u001b[0m\n\u001b[0m\u001b[1;32m   2300\u001b[0m         \u001b[0;32mif\u001b[0m \u001b[0museTk\u001b[0m\u001b[0;34m:\u001b[0m\u001b[0;34m\u001b[0m\u001b[0;34m\u001b[0m\u001b[0m\n\u001b[1;32m   2301\u001b[0m             \u001b[0mself\u001b[0m\u001b[0;34m.\u001b[0m\u001b[0m_loadtk\u001b[0m\u001b[0;34m(\u001b[0m\u001b[0;34m)\u001b[0m\u001b[0;34m\u001b[0m\u001b[0;34m\u001b[0m\u001b[0m\n",
            "\u001b[0;31mTclError\u001b[0m: no display name and no $DISPLAY environment variable"
          ]
        }
      ]
    }
  ]
}